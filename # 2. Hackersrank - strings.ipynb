{
 "cells": [
  {
   "cell_type": "markdown",
   "id": "bf46f2b0",
   "metadata": {},
   "source": [
    "# Swapcase"
   ]
  },
  {
   "cell_type": "code",
   "execution_count": 6,
   "id": "52453f69",
   "metadata": {},
   "outputs": [
    {
     "name": "stdout",
     "output_type": "stream",
     "text": [
      "ABCdef123\n"
     ]
    }
   ],
   "source": [
    "def swapcase(s):\n",
    "    x = s.swapcase()\n",
    "    print(x)\n",
    "swapcase (\"abcDEF123\")"
   ]
  },
  {
   "cell_type": "markdown",
   "id": "29e72542",
   "metadata": {},
   "source": [
    "# Split and join"
   ]
  },
  {
   "cell_type": "code",
   "execution_count": 4,
   "id": "5c252ec4",
   "metadata": {},
   "outputs": [
    {
     "name": "stdout",
     "output_type": "stream",
     "text": [
      "this is a cat\n",
      "this-is-a-cat\n"
     ]
    }
   ],
   "source": [
    "def split_and_join(line):\n",
    "    \n",
    "    line = line.split(\" \")\n",
    "    result = \"-\".join(line)\n",
    "    return result\n",
    "    \n",
    "if __name__ == '__main__':\n",
    "    line = input()\n",
    "    result = split_and_join(line)\n",
    "    print(result)"
   ]
  },
  {
   "cell_type": "markdown",
   "id": "dcffceb6",
   "metadata": {},
   "source": [
    "# Full name"
   ]
  },
  {
   "cell_type": "code",
   "execution_count": 5,
   "id": "e840f7ad",
   "metadata": {},
   "outputs": [
    {
     "name": "stdout",
     "output_type": "stream",
     "text": [
      "enter a first name: bharathi\n",
      "enter a second name: selvam\n",
      "Hello bharathi selvam! You just delved into python.\n"
     ]
    }
   ],
   "source": [
    "def print_full_name(first, last):\n",
    "    \n",
    "    full_name = f\"{first} {last}\"\n",
    "    return full_name\n",
    "\n",
    "if __name__ == '__main__':\n",
    "    first = input(\"enter a first name: \")\n",
    "    last = input(\"enter a second name: \")\n",
    "    full_name = print_full_name(first,last)\n",
    "    print(f\"Hello {full_name}! You just delved into python.\")\n"
   ]
  },
  {
   "cell_type": "markdown",
   "id": "b807b447",
   "metadata": {},
   "source": [
    "# Count substring"
   ]
  },
  {
   "cell_type": "code",
   "execution_count": 11,
   "id": "f7677f56",
   "metadata": {},
   "outputs": [
    {
     "name": "stdout",
     "output_type": "stream",
     "text": [
      "ABCDCDEFG\n",
      "CD\n",
      "2\n"
     ]
    }
   ],
   "source": [
    "def count_substring(string, sub_string):\n",
    "    \n",
    "    count = 0\n",
    "    for i in range(len(string) - len(sub_string) + 1):\n",
    "        if string[i: i +len(sub_string)] == sub_string:\n",
    "            count += 1\n",
    "    return count\n",
    "\n",
    "if __name__ == '__main__':\n",
    "    string = input().strip()\n",
    "    sub_string = input().strip()\n",
    "    \n",
    "    count = count_substring(string, sub_string)\n",
    "    print(count)"
   ]
  },
  {
   "cell_type": "markdown",
   "id": "bb54e175",
   "metadata": {},
   "source": [
    "# Character check"
   ]
  },
  {
   "cell_type": "code",
   "execution_count": 31,
   "id": "eaea770f",
   "metadata": {},
   "outputs": [
    {
     "name": "stdout",
     "output_type": "stream",
     "text": [
      "cgsadfg872\n",
      "True\n",
      "True\n",
      "True\n",
      "False\n",
      "True\n"
     ]
    }
   ],
   "source": [
    "if __name__ == '__main__':\n",
    "    \n",
    "    s = input()\n",
    "   \n",
    "    alnum = any(char.isalnum() for char in s)\n",
    "    alpha = any(char.isalpha() for char in s)\n",
    "    digit = any(char.isdigit() for char in s)\n",
    "    upper = any(char.isupper() for char in s)\n",
    "    lower = any(char.islower() for char in s)\n",
    "    \n",
    "    print(alnum)\n",
    "    print(alpha)\n",
    "    print(digit)\n",
    "    print(upper)\n",
    "    print(lower)\n",
    "    "
   ]
  },
  {
   "cell_type": "markdown",
   "id": "44f7c6fe",
   "metadata": {},
   "source": [
    "# Mutate string"
   ]
  },
  {
   "cell_type": "code",
   "execution_count": 4,
   "id": "68a61b8b",
   "metadata": {},
   "outputs": [
    {
     "name": "stdout",
     "output_type": "stream",
     "text": [
      "adbcdef\n",
      "2 f\n",
      "adfcdef\n"
     ]
    }
   ],
   "source": [
    "def mutate_string(string, position, character):\n",
    "    s = list(string)\n",
    "    s[position] = character\n",
    "    return \"\".join(s)\n",
    "\n",
    "if __name__ == '__main__':\n",
    "    s = input()\n",
    "    i, c = input().split()\n",
    "    s_new = mutate_string(s, int(i), c)\n",
    "    print(s_new)"
   ]
  },
  {
   "cell_type": "markdown",
   "id": "fc8f8bd8",
   "metadata": {},
   "source": [
    "# Textwrap"
   ]
  },
  {
   "cell_type": "code",
   "execution_count": 6,
   "id": "fd9d022c",
   "metadata": {},
   "outputs": [
    {
     "name": "stdout",
     "output_type": "stream",
     "text": [
      "cbvbfghvnjghr\n",
      "3\n",
      "cbv\n",
      "bfg\n",
      "hvn\n",
      "jgh\n",
      "r\n"
     ]
    }
   ],
   "source": [
    "import textwrap\n",
    "\n",
    "def wrap(string, max_width):\n",
    "    wrapper = textwrap.TextWrapper(max_width)\n",
    "    result = wrapper.wrap(string)\n",
    "\n",
    "    return \"\\n\".join(result)\n",
    "\n",
    "if __name__ == '__main__':\n",
    "    string, max_width = input(), int(input())\n",
    "    result = wrap(string, max_width)\n",
    "    print(result)"
   ]
  },
  {
   "cell_type": "markdown",
   "id": "72f9fb24",
   "metadata": {},
   "source": [
    "# Logo"
   ]
  },
  {
   "cell_type": "code",
   "execution_count": 3,
   "id": "2146fe1f",
   "metadata": {},
   "outputs": [
    {
     "name": "stdout",
     "output_type": "stream",
     "text": [
      "3\n",
      "  H  \n",
      " HHH \n",
      "HHHHH\n",
      " HHH         HHH        \n",
      " HHH         HHH        \n",
      " HHH         HHH        \n",
      " HHH         HHH        \n",
      " HHHHHHHHHHHHHHH  \n",
      " HHHHHHHHHHHHHHH  \n",
      " HHH         HHH        \n",
      " HHH         HHH        \n",
      " HHH         HHH        \n",
      " HHH         HHH        \n",
      "            HHHHH \n",
      "             HHH  \n",
      "              H   \n"
     ]
    }
   ],
   "source": [
    "#Replace all ______ with rjust, ljust or center.\n",
    "\n",
    "thickness = int(input()) #This must be an odd number\n",
    "c = 'H'\n",
    "\n",
    "#Top Cone\n",
    "for i in range(thickness):\n",
    "    print((c*i).rjust(thickness-1)+c+(c*i).ljust(thickness-1))\n",
    "\n",
    "#Top Pillars\n",
    "for i in range(thickness+1):\n",
    "    print((c*thickness).center(thickness*2)+(c*thickness).center(thickness*6))\n",
    "\n",
    "#Middle Belt\n",
    "for i in range((thickness+1)//2):\n",
    "    print((c*thickness*5).center(thickness*6))\n",
    "\n",
    "#Bottom Pillars\n",
    "for i in range(thickness+1):\n",
    "    print((c*thickness).center(thickness*2)+(c*thickness).center(thickness*6))\n",
    "\n",
    "#Bottom Cone\n",
    "for i in range(thickness):\n",
    "    print(((c*(thickness-i-1)).rjust(thickness)+c+\n",
    "     (c*(thickness-i-1)).ljust(thickness)).rjust(thickness*6))\n",
    "\n",
    "\n"
   ]
  }
 ],
 "metadata": {
  "kernelspec": {
   "display_name": "Python 3 (ipykernel)",
   "language": "python",
   "name": "python3"
  },
  "language_info": {
   "codemirror_mode": {
    "name": "ipython",
    "version": 3
   },
   "file_extension": ".py",
   "mimetype": "text/x-python",
   "name": "python",
   "nbconvert_exporter": "python",
   "pygments_lexer": "ipython3",
   "version": "3.11.3"
  }
 },
 "nbformat": 4,
 "nbformat_minor": 5
}
