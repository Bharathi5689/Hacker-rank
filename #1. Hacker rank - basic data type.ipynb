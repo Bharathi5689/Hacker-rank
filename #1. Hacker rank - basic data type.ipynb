{
 "cells": [
  {
   "cell_type": "markdown",
   "id": "045e0ad6",
   "metadata": {},
   "source": [
    "# List Comprehension"
   ]
  },
  {
   "cell_type": "code",
   "execution_count": 27,
   "id": "c75a25de",
   "metadata": {},
   "outputs": [
    {
     "name": "stdout",
     "output_type": "stream",
     "text": [
      "1\n",
      "1\n",
      "2\n",
      "3\n",
      "[[0, 0, 0], [0, 0, 1], [0, 0, 2], [0, 1, 0], [0, 1, 1], [1, 0, 0], [1, 0, 1], [1, 1, 0], [1, 1, 2]]\n"
     ]
    }
   ],
   "source": [
    "if __name__ == '__main__':\n",
    "    x = int(input())\n",
    "    y = int(input())\n",
    "    z = int(input())\n",
    "    n = int(input())\n",
    "    result = [[i,j,k] for i in range(x + 1) for j in range(y + 1) for k in range(z + 1) if i + j + k !=3]\n",
    "    print(result)\n"
   ]
  },
  {
   "cell_type": "markdown",
   "id": "819ece55",
   "metadata": {},
   "source": [
    "# Runner-up score"
   ]
  },
  {
   "cell_type": "code",
   "execution_count": 36,
   "id": "0600c552",
   "metadata": {},
   "outputs": [
    {
     "name": "stdout",
     "output_type": "stream",
     "text": [
      "5\n",
      "9 7 2 6 8\n",
      "[2, 6, 7, 8, 9]\n",
      "[9, 8, 7, 6, 2]\n",
      "8\n"
     ]
    }
   ],
   "source": [
    "if __name__ == \"__main__\":\n",
    "    n = int(input())\n",
    "    arr = map(int, input().split())\n",
    "    arr = list(set(arr))\n",
    "    print(arr)\n",
    "    arr.sort(reverse = True)\n",
    "    print(arr)\n",
    "    print(arr[1])"
   ]
  },
  {
   "cell_type": "markdown",
   "id": "e714b612",
   "metadata": {},
   "source": [
    "# Nested List"
   ]
  },
  {
   "cell_type": "code",
   "execution_count": 43,
   "id": "287737c0",
   "metadata": {},
   "outputs": [
    {
     "name": "stdout",
     "output_type": "stream",
     "text": [
      "4\n",
      "arthi\n",
      "30\n",
      "veni\n",
      "40\n",
      "anbu\n",
      "40\n",
      "buji\n",
      "60\n",
      "anbu\n",
      "veni\n"
     ]
    }
   ],
   "source": [
    "if __name__ == '__main__':\n",
    "    \n",
    "    n = int(input())\n",
    "    student = []\n",
    "    \n",
    "    for _ in range(n):\n",
    "        name = input()\n",
    "        score = float(input())\n",
    "        student.append([name,score])\n",
    "        #print(student)\n",
    "    \n",
    "    student.sort(key = lambda x: x[1])\n",
    "    \n",
    "    second_lowest_score = None\n",
    "    \n",
    "    for i in range(1, len(student)):\n",
    "        if student[i][1] > student [i - 1][1]:\n",
    "            second_lowest_score = student[i][1]\n",
    "            #print(second_lowest_score)\n",
    "            break\n",
    "            \n",
    "    second_lowest_student = []\n",
    "    \n",
    "    for children in student:\n",
    "        if children[1] == second_lowest_score:\n",
    "            second_lowest_student.append(children[0])\n",
    "           # print(second_lowest_student)\n",
    "            second_lowest_student.sort()\n",
    "            \n",
    "    for name in second_lowest_student:\n",
    "        print(name)\n",
    "    \n",
    "        \n",
    "        \n",
    "        \n",
    "        \n",
    "        "
   ]
  },
  {
   "cell_type": "markdown",
   "id": "0861fe12",
   "metadata": {},
   "source": [
    "# Percentage"
   ]
  },
  {
   "cell_type": "code",
   "execution_count": 47,
   "id": "b18cc18f",
   "metadata": {},
   "outputs": [
    {
     "name": "stdout",
     "output_type": "stream",
     "text": [
      "3\n",
      "veni 98 65 93\n",
      "anbu 78 75 63\n",
      "buji 99 94 92\n",
      "veni\n",
      "85.33\n"
     ]
    }
   ],
   "source": [
    "if __name__ == '__main__':\n",
    "   \n",
    "    n = int(input())\n",
    "    student_marks = {}\n",
    "  \n",
    "    for _ in range(n):\n",
    "        name, *line = input().split()\n",
    "        scores = list(map(float, line))\n",
    "        student_marks[name] = scores\n",
    "    query_name = input()\n",
    "    \n",
    "    if query_name in student_marks:\n",
    "        scores = student_marks[query_name]\n",
    "        average = sum(scores)/len(scores)\n",
    "        print(f\"{average:.2f}\")\n",
    "    else:\n",
    "        print(\"Not Found\")\n",
    "        "
   ]
  },
  {
   "cell_type": "markdown",
   "id": "8a40cdb9",
   "metadata": {},
   "source": [
    "# List"
   ]
  },
  {
   "cell_type": "code",
   "execution_count": 64,
   "id": "d296b400",
   "metadata": {},
   "outputs": [
    {
     "name": "stdout",
     "output_type": "stream",
     "text": [
      "5\n",
      "insert 1 3\n",
      "append 9\n",
      "append 8\n",
      "reverse\n",
      "print\n",
      "[8, 9, 3]\n"
     ]
    }
   ],
   "source": [
    "if __name__ == '__main__':\n",
    "    N = int(input())\n",
    "    l = []\n",
    "    \n",
    "    for i in range(N):\n",
    "        s = list(input().split())\n",
    "        if s[0] ==\"insert\":\n",
    "            l.insert(int(s[1]),int(s[2]))\n",
    "        if s[0] == \"append\":\n",
    "            l.append(int(s[1]))\n",
    "        if s[0] == \"remove\":\n",
    "            l.remove(int(s[1]))\n",
    "        if s[0] == \"sort\":\n",
    "            l.sort()\n",
    "        if s[0] == \"pop\":\n",
    "            l.pop()\n",
    "        if s[0] == \"reverse\":\n",
    "            l.reverse()\n",
    "        if s[0] == \"print\":\n",
    "            print(l)\n",
    "\n"
   ]
  },
  {
   "cell_type": "markdown",
   "id": "89012058",
   "metadata": {},
   "source": [
    "# Tuple"
   ]
  },
  {
   "cell_type": "code",
   "execution_count": 51,
   "id": "210fc77a",
   "metadata": {},
   "outputs": [
    {
     "name": "stdout",
     "output_type": "stream",
     "text": [
      "1 \n",
      "1 2\n",
      "3550055125485641917\n"
     ]
    }
   ],
   "source": [
    "if __name__ == '__main__':\n",
    "    \n",
    "    n = int(input())\n",
    "    integer_list = map (int,input().split())\n",
    "    t = tuple(set(integer_list))\n",
    "    output = hash(t)\n",
    "    print(abs(output))"
   ]
  }
 ],
 "metadata": {
  "kernelspec": {
   "display_name": "Python 3 (ipykernel)",
   "language": "python",
   "name": "python3"
  },
  "language_info": {
   "codemirror_mode": {
    "name": "ipython",
    "version": 3
   },
   "file_extension": ".py",
   "mimetype": "text/x-python",
   "name": "python",
   "nbconvert_exporter": "python",
   "pygments_lexer": "ipython3",
   "version": "3.11.3"
  }
 },
 "nbformat": 4,
 "nbformat_minor": 5
}
