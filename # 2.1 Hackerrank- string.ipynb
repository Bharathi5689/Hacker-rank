{
 "cells": [
  {
   "cell_type": "code",
   "execution_count": 1,
   "id": "920ff40f",
   "metadata": {},
   "outputs": [
    {
     "name": "stdout",
     "output_type": "stream",
     "text": [
      "7 21\n",
      "---------.|.---------\n",
      "------.|..|..|.------\n",
      "---.|..|..|..|..|.---\n",
      "-------WELCOME-------\n",
      "---.|..|..|..|..|.---\n",
      "------.|..|..|.------\n",
      "---------.|.---------\n"
     ]
    }
   ],
   "source": [
    "n, m = map (int, input().split())\n",
    "\n",
    "pattern =[(\".|.\" *(2 * i + 1 )).center(m,\"-\") for i in range (n //2 )]\n",
    "\n",
    "welcome = \"WELCOME\".center(m,\"-\")\n",
    "\n",
    "print('\\n'.join(pattern + [welcome] + pattern[::-1]))"
   ]
  },
  {
   "cell_type": "code",
   "execution_count": 2,
   "id": "ee0ae219",
   "metadata": {},
   "outputs": [
    {
     "name": "stdout",
     "output_type": "stream",
     "text": [
      "---------.|.---------\n",
      "------.|..|..|.------\n",
      "---.|..|..|..|..|.---\n",
      "-------WELCOME-------\n",
      "---.|..|..|..|..|.---\n",
      "------.|..|..|.------\n",
      "---------.|.---------\n"
     ]
    }
   ],
   "source": [
    "def doormat(row,column):\n",
    "    \n",
    "    width = column\n",
    "    \n",
    "    for i in range( 0 , row // 2 ):\n",
    "        pattern = \".|.\" * (( 2 * i )+ 1)\n",
    "        print(pattern.center(width , \"-\"))\n",
    "        \n",
    "    print(\"WELCOME\".center(width,\"-\"))\n",
    "    \n",
    "    i = row // 2\n",
    "    while i > 0:\n",
    "        pattern = \".|.\" * (( 2 * i) - 1)\n",
    "        print(pattern.center(width , \"-\"))\n",
    "        i = i - 1\n",
    "    return\n",
    "        \n",
    "row = 7\n",
    "column = 3 * row\n",
    "doormat(row, column)\n",
    "    \n",
    "    \n",
    "        "
   ]
  },
  {
   "cell_type": "code",
   "execution_count": 3,
   "id": "21c399ce",
   "metadata": {},
   "outputs": [
    {
     "name": "stdout",
     "output_type": "stream",
     "text": [
      "---------*@*---------\n",
      "------*@**@**@*------\n",
      "---*@**@**@**@**@*---\n",
      "-------WELCOME-------\n",
      "---*@**@**@**@**@*---\n",
      "------*@**@**@*------\n",
      "---------*@*---------\n"
     ]
    }
   ],
   "source": [
    "def doormat(row, column):\n",
    "    \n",
    "    width = column\n",
    "    \n",
    "    for i in range (0, row // 2):\n",
    "        pattern = \"*@*\" * ((2 * i) + 1)\n",
    "        print(pattern.center(width, \"-\"))\n",
    "    \n",
    "    print(\"WELCOME\".center(width,\"-\"))\n",
    "    \n",
    "    i = row // 2\n",
    "    \n",
    "    while i > 0 :\n",
    "        pattern = \"*@*\" *((2 * i) -1)\n",
    "        print(pattern.center(width,\"-\"))\n",
    "        i = i - 1\n",
    "    return\n",
    "row = 7\n",
    "column = 3 * row\n",
    "doormat(row, column)\n",
    "    \n",
    "        \n"
   ]
  },
  {
   "cell_type": "code",
   "execution_count": 4,
   "id": "29f8546e",
   "metadata": {},
   "outputs": [
    {
     "name": "stdout",
     "output_type": "stream",
     "text": [
      "5\n",
      "  1   1   1   1\n",
      "  2   2   2  10\n",
      "  3   3   3  11\n",
      "  4   4   4 100\n",
      "  5   5   5 101\n"
     ]
    }
   ],
   "source": [
    "def print_formatted(number):\n",
    "    width = len(bin(number)) - 2\n",
    "    \n",
    "    for i in range(1, number + 1):\n",
    "        decimal = str(i)\n",
    "        octal = oct(i)[2:].rjust(width)\n",
    "        hexadecimal = hex(i)[2:].upper().rjust(width)\n",
    "        binary = bin(i)[2:].rjust(width)\n",
    "        print(f\"{decimal.rjust(width)} {octal} {hexadecimal} {binary}\")\n",
    "\n",
    "if __name__ == '__main__':\n",
    "    n = int(input())\n",
    "    print_formatted(n)"
   ]
  },
  {
   "cell_type": "code",
   "execution_count": 5,
   "id": "1056af7b",
   "metadata": {},
   "outputs": [
    {
     "name": "stdout",
     "output_type": "stream",
     "text": [
      "5\n",
      "--------e--------\n",
      "------e-d-e------\n",
      "----e-d-c-d-e----\n",
      "--e-d-c-b-c-d-e--\n",
      "e-d-c-b-a-b-c-d-e\n",
      "--e-d-c-b-c-d-e--\n",
      "----e-d-c-d-e----\n",
      "------e-d-e------\n",
      "--------e--------\n"
     ]
    }
   ],
   "source": [
    "def print_rangoli(size):\n",
    "   \n",
    "    import string\n",
    "    design = string.ascii_lowercase\n",
    "    n = size\n",
    "\n",
    "    L = []\n",
    "    for i in range(n):\n",
    "        s = \"-\".join(design[i:n])\n",
    "        L.append((s[::-1]+s[1:]).center(4*n-3, \"-\"))\n",
    "        \n",
    "    print('\\n'.join(L[:0:-1]+L))\n",
    "\n",
    "if __name__ == '__main__':\n",
    "    n = int(input())\n",
    "    print_rangoli(n)"
   ]
  },
  {
   "cell_type": "code",
   "execution_count": 1,
   "id": "50ba0943",
   "metadata": {},
   "outputs": [
    {
     "name": "stdout",
     "output_type": "stream",
     "text": [
      "BANANA\n",
      "Stuart 12\n"
     ]
    }
   ],
   "source": [
    "def minion_game(string):\n",
    "    vowels = \"AEIOU\"\n",
    "    stuart_score = 0\n",
    "    kevin_score = 0\n",
    "    \n",
    "    for i in range(len(string)):\n",
    "        \n",
    "        if string[i] in vowels:\n",
    "            kevin_score += len(string) - i\n",
    "        else:\n",
    "            stuart_score +=len(string) - i\n",
    "            \n",
    "    if stuart_score > kevin_score:\n",
    "        print(f\"Stuart {stuart_score}\")\n",
    "    elif kevin_score > stuart_score :\n",
    "        print(f\"Kevin {kevin_score}\")\n",
    "    else:\n",
    "        print(\"Draw\")\n",
    "        \n",
    "if __name__ ==\"__main__\":\n",
    "    s = input()\n",
    "    minion_game(s)\n",
    "\n"
   ]
  },
  {
   "cell_type": "code",
   "execution_count": 2,
   "id": "83f888a0",
   "metadata": {},
   "outputs": [
    {
     "name": "stdout",
     "output_type": "stream",
     "text": [
      "AABCAAADA\n",
      "3\n",
      "AB\n",
      "CA\n",
      "AD\n"
     ]
    }
   ],
   "source": [
    "def merge_the_tools(string, k):\n",
    "    length = len(string)\n",
    "    for i in range(0, length, k):\n",
    "        substring = string[i: i + k]\n",
    "        #print(substring)\n",
    "        unique_str = \"\"\n",
    "        for char in substring:\n",
    "            if char not in unique_str:\n",
    "                unique_str +=  char\n",
    "        print(unique_str)\n",
    "        \n",
    "if __name__ == '__main__':\n",
    "    string, k = input(), int(input())\n",
    "    merge_the_tools(string, k)"
   ]
  },
  {
   "cell_type": "code",
   "execution_count": null,
   "id": "f7d16d04",
   "metadata": {},
   "outputs": [],
   "source": []
  }
 ],
 "metadata": {
  "kernelspec": {
   "display_name": "Python 3 (ipykernel)",
   "language": "python",
   "name": "python3"
  },
  "language_info": {
   "codemirror_mode": {
    "name": "ipython",
    "version": 3
   },
   "file_extension": ".py",
   "mimetype": "text/x-python",
   "name": "python",
   "nbconvert_exporter": "python",
   "pygments_lexer": "ipython3",
   "version": "3.11.3"
  }
 },
 "nbformat": 4,
 "nbformat_minor": 5
}
